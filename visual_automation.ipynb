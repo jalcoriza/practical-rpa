{
 "cells": [
  {
   "cell_type": "code",
   "execution_count": null,
   "metadata": {},
   "outputs": [],
   "source": [
    "import rpa as r"
   ]
  },
  {
   "cell_type": "code",
   "execution_count": null,
   "metadata": {},
   "outputs": [],
   "source": [
    "r.init(visual_automation = True)"
   ]
  },
  {
   "cell_type": "code",
   "execution_count": null,
   "metadata": {},
   "outputs": [],
   "source": [
    "r.debug(True)"
   ]
  },
  {
   "cell_type": "code",
   "execution_count": null,
   "metadata": {},
   "outputs": [],
   "source": [
    "# Data inputs\n",
    "# Google sheets to translate from cm to pixels\n",
    "# https://docs.google.com/spreadsheets/d/12x7-hcRmbpKf-Xe1FxJMxEKk6hAty36pyD_V_5VGZkI/edit?usp=sharing\n",
    "url_office = 'https://office.com'\n",
    "aru_user = 'login'\n",
    "aru_password = 'paswword'\n",
    "print('Read from code')\n",
    "print(aru_user)\n",
    "print(aru_password)\n",
    "with open('aru_credentials.txt') as f:\n",
    "#    lines = f.readlines()\n",
    "    lines = f.read().splitlines()\n",
    "    \n",
    "aru_user = lines[0]\n",
    "aru_password = lines[1]\n",
    "print('Read from aru_credentials.txt')\n",
    "print(aru_user)\n",
    "print(aru_password)"
   ]
  },
  {
   "cell_type": "code",
   "execution_count": null,
   "metadata": {},
   "outputs": [],
   "source": [
    "# Open Office365 (already logged)\n",
    "r.url(url_office)\n",
    "r.wait(3)"
   ]
  },
  {
   "cell_type": "code",
   "execution_count": null,
   "metadata": {},
   "outputs": [],
   "source": [
    "#r.click('Sign in')"
   ]
  },
  {
   "cell_type": "code",
   "execution_count": null,
   "metadata": {},
   "outputs": [],
   "source": [
    "# Open Outlook\n",
    "r.click('Outlook')\n",
    "r.wait(3)"
   ]
  },
  {
   "cell_type": "code",
   "execution_count": null,
   "metadata": {},
   "outputs": [],
   "source": [
    "#r.click('//*[@aria-label=\"pumba_noreply\"]')"
   ]
  },
  {
   "cell_type": "code",
   "execution_count": null,
   "metadata": {},
   "outputs": [],
   "source": [
    "#r.dclick('pulse_secure_icon.png')"
   ]
  },
  {
   "cell_type": "code",
   "execution_count": null,
   "metadata": {},
   "outputs": [],
   "source": [
    "# Open Pulse Secure\n",
    "r.click('pulse_secure_icon.png')\n",
    "r.wait(5)\n",
    "r.click('ps_connect_icon.png')\n",
    "r.wait(5)\n",
    "x_aru_user=628; y_aru_user=320\n",
    "r.type(x_aru_user, y_aru_user,aru_user)\n",
    "r.keyboard('[tab]')\n",
    "r.keyboard(aru_password)\n",
    "r.keyboard('[enter]')\n"
   ]
  },
  {
   "cell_type": "code",
   "execution_count": null,
   "metadata": {},
   "outputs": [],
   "source": [
    "# Read the 2-factor authentication\n",
    "# 1. Focus on Chrome\n",
    "r.click('chrome_icon.png')\n",
    "r.wait(10)\n",
    "\n",
    "# 2. Focus on the last email (hopefully, the pumba one- improve it!)\n",
    "x_outlook_last_pumba=575; y_outlook_last_pumba=276\n",
    "r.click(x_outlook_last_pumba, y_outlook_last_pumba)\n",
    "r.wait(3)"
   ]
  },
  {
   "cell_type": "code",
   "execution_count": null,
   "metadata": {},
   "outputs": [],
   "source": [
    "#r.click('outlook_pumba_icon.png')"
   ]
  },
  {
   "cell_type": "code",
   "execution_count": null,
   "metadata": {},
   "outputs": [],
   "source": [
    "# Snap 2-factor authenticaton\n",
    "x1=830;y1=500\n",
    "h=50;w=200\n",
    "#r.snap(700,500,800,600,'test.png')\n",
    "r.snap(x1,y1,x1+w,y1+h,'2nd-factor.png')\n",
    "#print(r.read(x1,y1,x1+w,y1+h))\n",
    "#print(r.read('outlook_aru_icon.png'))"
   ]
  },
  {
   "cell_type": "code",
   "execution_count": null,
   "metadata": {},
   "outputs": [],
   "source": [
    "import os\n",
    "os.system('tesseract 2nd-factor.png 2nd-factor')"
   ]
  },
  {
   "cell_type": "code",
   "execution_count": null,
   "metadata": {},
   "outputs": [],
   "source": [
    "lines = []\n",
    "with open('2nd-factor.txt') as f:\n",
    "#    lines = f.readlines()\n",
    "    lines = f.read().splitlines()\n",
    "    \n",
    "code = lines[0]\n",
    "print(code)\n",
    "#code = int(lines[0])\n",
    "#print(code)"
   ]
  },
  {
   "cell_type": "code",
   "execution_count": null,
   "metadata": {},
   "outputs": [],
   "source": [
    "# Insert 2-Factor authentication in ARU\n",
    "r.keyboard('[alt][tab]')\n",
    "#r.keyboard('code')\n",
    "r.keyboard(str(code))\n",
    "r.keyboard('[enter]')"
   ]
  },
  {
   "cell_type": "code",
   "execution_count": null,
   "metadata": {},
   "outputs": [],
   "source": [
    "# Open Business Objects\n",
    "r.url('https://universossiete.tesa/BOE/BI')"
   ]
  },
  {
   "cell_type": "code",
   "execution_count": null,
   "metadata": {},
   "outputs": [],
   "source": [
    "r.close()"
   ]
  },
  {
   "cell_type": "code",
   "execution_count": null,
   "metadata": {},
   "outputs": [],
   "source": []
  }
 ],
 "metadata": {
  "kernelspec": {
   "display_name": "Python 3",
   "language": "python",
   "name": "python3"
  },
  "language_info": {
   "codemirror_mode": {
    "name": "ipython",
    "version": 3
   },
   "file_extension": ".py",
   "mimetype": "text/x-python",
   "name": "python",
   "nbconvert_exporter": "python",
   "pygments_lexer": "ipython3",
   "version": "3.7.9"
  }
 },
 "nbformat": 4,
 "nbformat_minor": 4
}
